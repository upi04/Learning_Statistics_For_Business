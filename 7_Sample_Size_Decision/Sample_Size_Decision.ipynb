{
  "nbformat": 4,
  "nbformat_minor": 0,
  "metadata": {
    "colab": {
      "provenance": []
    },
    "kernelspec": {
      "name": "python3",
      "display_name": "Python 3"
    },
    "language_info": {
      "name": "python"
    }
  },
  "cells": [
    {
      "cell_type": "markdown",
      "source": [
        "**Outline**\n",
        "\n",
        "1. Topic Review\n",
        "3. Sample Size for Rental Properties\n",
        "4. Sample Size for Marketing Campaign\n",
        "5. Priming"
      ],
      "metadata": {
        "id": "4OLkKWn8w6AT"
      }
    },
    {
      "cell_type": "code",
      "source": [
        "import numpy as np\n",
        "import pandas as pd\n",
        "import statsmodels.formula.api as smf\n",
        "from scipy.stats import norm\n",
        "import matplotlib.pyplot as plt"
      ],
      "metadata": {
        "id": "o_bWtAlcw8yA"
      },
      "execution_count": 1,
      "outputs": []
    },
    {
      "cell_type": "markdown",
      "source": [
        "## Topic Review\n",
        "\n",
        "#### Sample Size Estimate\n",
        "- Sample size estimate are useful to design an exeperiment to keep some standard in our inferences\n",
        "- There are two approach to estimate the sample size:\n",
        "  - Based on desired standard error\n",
        "  - Based on power level and also confidence level and effect size\n",
        "- Larger samples lead to smaller standard error\n",
        "- Larger power and confidence level lead to higher sample size need\n",
        "- Smaller effect size lead to smaller sample size need\n",
        "- Sample size calculation for estimating regression coefficient are exactly the same as estimated sample size for mean where standard deviation and effectsize was estimated from the residual standard deviation from previous study\n",
        "\n",
        "#### Sample Size for Estimating Single Mean\n",
        "\n",
        "**1. Based on Standard Error**\n",
        "$$\n",
        "n=\\left (\\frac{\\sigma}{\\text{SE}(\\bar{y})}  \\right )^2\n",
        "$$\n",
        "  - $n$ is sample size estimate\n",
        "  - $\\sigma$ is standard deviation of population\n",
        "  - $\\text{SE}(\\bar{y})$ is desired standard error\n",
        "\n",
        "  \n",
        "*Helper Function*\n",
        "  \n"
      ],
      "metadata": {
        "id": "hbSGegtP556G"
      }
    },
    {
      "cell_type": "code",
      "source": [
        "def sample_size_single_mean_se(sigma, standard_error):\n",
        "\n",
        "    # Calculate sample size\n",
        "    n = (sigma/standard_error)**2\n",
        "\n",
        "    return n"
      ],
      "metadata": {
        "id": "cPy1JoCx6RjQ"
      },
      "execution_count": 2,
      "outputs": []
    },
    {
      "cell_type": "markdown",
      "source": [
        "**2. Based on Desired Power and Confidence Level**\n",
        "- Sample size for estimating single mean based on power, confidence level and effectsize\n",
        "$$\n",
        "n = \\frac{\\sigma^2 (z_{1-{\\frac{\\alpha}{2}}}+z_{1-\\beta})^2}{\\delta^2}\n",
        "$$\n",
        "  - $n$ is sample size estimate\n",
        "  - $\\sigma$ is standard deviation of population\n",
        "  - $\\delta$ is desired difference to the true population\n",
        "  - $z_{1-\\frac{\\alpha}{2}}$ represents z-value under desired significance level ($\\alpha$)\n",
        "  - $z_{1-\\beta}$ represents z-value under the desired power\n",
        "\n",
        "  *Helper Function*"
      ],
      "metadata": {
        "id": "UPB-n_cJ6fOe"
      }
    },
    {
      "cell_type": "code",
      "source": [
        "def sample_size_single_mean(alpha, beta, effect_size, sigma):\n",
        "\n",
        "    # Calculate z-value\n",
        "    z_alpha = norm.ppf(1 - alpha/2)\n",
        "    z_beta = norm.ppf(1 - beta)\n",
        "\n",
        "    # Calculate sample size\n",
        "    n = ( (sigma**2) * (z_alpha + z_beta)**2 ) / effect_size**2\n",
        "\n",
        "    return n"
      ],
      "metadata": {
        "id": "VxFFOEbr6ioA"
      },
      "execution_count": 3,
      "outputs": []
    },
    {
      "cell_type": "markdown",
      "source": [
        "#### Sample Size for Estimating Difference between Two Means\n",
        "\n",
        "**1. Based on Standard Error**\n",
        "\n",
        "$$\n",
        "n=\\left (\\frac{2\\sigma}{\\text{SE}(\\bar{y}_1-\\bar{y}_2)}  \\right )^2\n",
        "$$\n",
        "  - $n$ is sample size estimate\n",
        "  - $\\sigma$ is standard deviation of population\n",
        "  - $\\text{se}(\\bar{y}_1-\\bar{y}_2)$ is desired standard error of difference of two means\n",
        "\n",
        "  *Helper Function*"
      ],
      "metadata": {
        "id": "oav1Njdq6qO3"
      }
    },
    {
      "cell_type": "code",
      "source": [
        "def sample_size_diff_mean_se(sigma, standard_error):\n",
        "\n",
        "    # Calculate sample size\n",
        "    n = ( (2 * sigma) / standard_error )**2\n",
        "\n",
        "    return n"
      ],
      "metadata": {
        "id": "CAEXFiJj6y3p"
      },
      "execution_count": 4,
      "outputs": []
    },
    {
      "cell_type": "markdown",
      "source": [
        "**2. Based on Desired Power and Confidence Level**\n",
        "$$\n",
        "n = \\frac{(2\\sigma(z_{1-{\\frac{\\alpha}{2}}}+z_{1-\\beta}))^2}{\\delta^2}\n",
        "$$\n",
        "  - $n$ is sample size estimate in two groups\n",
        "  - $\\sigma$ is standard deviation of population\n",
        "  - $\\delta$ is desired difference of two mean to be detected\n",
        "  - $z_{1-\\frac{\\alpha}{2}}$ represents z-value under desired significance level ($\\alpha$)\n",
        "  - $z_{1-\\beta}$ represents z-value under the desired power"
      ],
      "metadata": {
        "id": "AztnnSJC60KL"
      }
    },
    {
      "cell_type": "code",
      "source": [
        "def sample_size_diff_mean(alpha, beta, effect_size, sigma):\n",
        "\n",
        "    # Calculate z-value\n",
        "    z_alpha = norm.ppf(1 - alpha/2)\n",
        "    z_beta = norm.ppf(1 - beta)\n",
        "\n",
        "    # Calculate sample size\n",
        "    n =  (2 * sigma * (z_alpha+z_beta))**2 / (effect_size**2)\n",
        "\n",
        "    return n"
      ],
      "metadata": {
        "id": "ttVbBgqs613m"
      },
      "execution_count": 5,
      "outputs": []
    },
    {
      "cell_type": "markdown",
      "source": [
        "# 1. Sample Size for Rental Properties\n",
        "---\n",
        "- The firm in charge of rental properties is facing a decision regarding whether or not to expand into a costly area in downtown San Francisco.\n",
        "- The amount of money the firm earns is dependent on the rents of the properties they manage.\n",
        "- In order to make the expansion financially feasible, the firm must ensure that the average rent in this area is more than `$1500` per month.\n",
        "- From the the previous study they know that the standard deviation of rent price in the San Francisco is `$500`\n",
        "\n",
        "## 1.1\n",
        "How much estimated the sample size if they want standard error to be no worse than $50?"
      ],
      "metadata": {
        "id": "Ijp3cO5I7EFO"
      }
    },
    {
      "cell_type": "code",
      "source": [
        "# Given\n",
        "\n",
        "standard_error = 50\n",
        "sigma = 500"
      ],
      "metadata": {
        "id": "pmgSjMQ57atd"
      },
      "execution_count": 6,
      "outputs": []
    },
    {
      "cell_type": "code",
      "source": [
        "# then calculate the number of sample size\n",
        "n =  sample_size_single_mean_se(sigma, standard_error)\n",
        "\n",
        "print(f\"Number of sample size needed            : {n:.2f}\")"
      ],
      "metadata": {
        "colab": {
          "base_uri": "https://localhost:8080/"
        },
        "id": "SE-4ZQN47bts",
        "outputId": "0f6d4a35-1679-4a78-a459-9cf2220be612"
      },
      "execution_count": 7,
      "outputs": [
        {
          "output_type": "stream",
          "name": "stdout",
          "text": [
            "Number of sample size needed            : 100.00\n"
          ]
        }
      ]
    },
    {
      "cell_type": "markdown",
      "source": [
        "## 1.2\n",
        "If they wanted to conduct statistical inference to help the decision, how much estimated the sample size if they want the estimate has 80% power to be statistical significant under 95% confidence level to detect `$50` difference with the true population mean?\n",
        "\n",
        "Initiate what we know"
      ],
      "metadata": {
        "id": "oI9FiSz37Zq3"
      }
    },
    {
      "cell_type": "code",
      "source": [
        "# Given\n",
        "effect_size = 50 # absolute desired difference with the true population mean\n",
        "conf = 0.95      # confidence level\n",
        "power = 0.8      # power\n",
        "sigma = 500      # standard deviation of population (assumed / approximated)"
      ],
      "metadata": {
        "id": "URJgyPc37mAF"
      },
      "execution_count": 8,
      "outputs": []
    },
    {
      "cell_type": "code",
      "source": [
        "# calculate beta\n",
        "beta = 1 - power\n",
        "\n",
        "# calculate alpha\n",
        "alpha = 1 - conf"
      ],
      "metadata": {
        "id": "nePQ5wiH7nvt"
      },
      "execution_count": 9,
      "outputs": []
    },
    {
      "cell_type": "markdown",
      "source": [
        "Calculate estimated sample size using helper function, or you can manually calculate it by using calculator, it must expect approximately same value"
      ],
      "metadata": {
        "id": "GkbDzMxU7rTm"
      }
    },
    {
      "cell_type": "code",
      "source": [
        "# then calculate the number of sample size\n",
        "n =  sample_size_single_mean(alpha, beta, effect_size, sigma)\n",
        "\n",
        "print(f\"Number of sample size needed            : {n:.2f}\")"
      ],
      "metadata": {
        "colab": {
          "base_uri": "https://localhost:8080/"
        },
        "id": "BEVgNiz07smu",
        "outputId": "41a6646d-826b-4254-9736-b1dd712d8851"
      },
      "execution_count": 10,
      "outputs": [
        {
          "output_type": "stream",
          "name": "stdout",
          "text": [
            "Number of sample size needed            : 784.89\n"
          ]
        }
      ]
    },
    {
      "cell_type": "markdown",
      "source": [
        "**Conclusion**\n",
        "\n",
        "The estimated sample size to have `$50` standard error in our inferences is:\n",
        "- We need 100 observations\n",
        "\n",
        "The estimated sample size to have 95% confidence and 80% power in our inferences is:\n",
        "- We need 785  $\\approx$ 800 observations\n",
        "\n",
        "# 2. Sample Size for Marketing Campaign\n",
        "---\n",
        "\n",
        "- Marketing companies want to run successful campaigns.\n",
        "- They have a new initiative in new campaigns, let say campaigns B.\n",
        "- Before implementing campaign B, they conduct an experiment to compare existing campaign (campaign A) and new campaign (campaigns B).\n",
        "- With the new campaigns, it is expected that the the revenue per user will increase by `$5`.\n",
        "- It is known that 1 month ago, the standar deviation was `$15`.\n",
        "\n",
        "## 2.1\n",
        "How much the estimated sample size to infer the difference revenue-per-user with standard error $3?\n"
      ],
      "metadata": {
        "id": "u9vEXpmW754v"
      }
    },
    {
      "cell_type": "code",
      "source": [
        "# Given\n",
        "standard_error = 3  # desired standard error\n",
        "sigma = 15          # standard deviation of population (assumed / approximated)"
      ],
      "metadata": {
        "id": "qAq23UdN78e7"
      },
      "execution_count": 11,
      "outputs": []
    },
    {
      "cell_type": "code",
      "source": [
        "# then calculate the number of sample size\n",
        "n =  sample_size_diff_mean_se(sigma, standard_error)\n",
        "\n",
        "print(f\"Number of total sample size needed            : {n:.2f}\")\n",
        "print(f\"Number of sample size of each group needed    : {n/2:.2f}\")"
      ],
      "metadata": {
        "colab": {
          "base_uri": "https://localhost:8080/"
        },
        "id": "zPfNDMDQ77f0",
        "outputId": "01684834-e56f-482f-e125-1c6d5402d538"
      },
      "execution_count": 12,
      "outputs": [
        {
          "output_type": "stream",
          "name": "stdout",
          "text": [
            "Number of total sample size needed            : 100.00\n",
            "Number of sample size of each group needed    : 50.00\n"
          ]
        }
      ]
    },
    {
      "cell_type": "markdown",
      "source": [
        "## 2.2\n",
        "With a confidence level of 95% and a power of 80%, How many minimum sample size are needed?\n",
        "\n",
        "Initiate what we know"
      ],
      "metadata": {
        "id": "zSLFVUyR8Out"
      }
    },
    {
      "cell_type": "code",
      "source": [
        "# Given\n",
        "effect_size = 5    # absolute desired difference of two groups means\n",
        "conf = 0.95        # confidence level\n",
        "power = 0.8        # power\n",
        "sigma = 15         # standard deviation of population (assumed / approximated)"
      ],
      "metadata": {
        "id": "8JMT2q_S76wq"
      },
      "execution_count": 13,
      "outputs": []
    },
    {
      "cell_type": "markdown",
      "source": [
        "Calculate the alpha and beta from confidence level and power level"
      ],
      "metadata": {
        "id": "3wQJi6q-8N-3"
      }
    },
    {
      "cell_type": "code",
      "source": [
        "# calculate beta\n",
        "beta = 1 - power\n",
        "\n",
        "# calculate alpha\n",
        "alpha = 1 - conf"
      ],
      "metadata": {
        "id": "JwwrTqFU71xh"
      },
      "execution_count": 14,
      "outputs": []
    },
    {
      "cell_type": "markdown",
      "source": [
        "Calculate estimated sample size using helper function, or you can manually calculate it by using calculator, it must expect the same vaue"
      ],
      "metadata": {
        "id": "uI6eclCJ8dWt"
      }
    },
    {
      "cell_type": "code",
      "source": [
        "# then calculate the number of total sample size\n",
        "n =  sample_size_diff_mean(alpha, beta, effect_size, sigma)\n",
        "\n",
        "print(f\"Number of total sample size needed            : {n:.2f}\")\n",
        "print(f\"Number of sample size of each group needed    : {n/2:.2f}\")"
      ],
      "metadata": {
        "colab": {
          "base_uri": "https://localhost:8080/"
        },
        "id": "0jN8kBhH8hLe",
        "outputId": "0906a38f-abe3-4059-851d-f6f77c5b6068"
      },
      "execution_count": 15,
      "outputs": [
        {
          "output_type": "stream",
          "name": "stdout",
          "text": [
            "Number of total sample size needed            : 282.56\n",
            "Number of sample size of each group needed    : 141.28\n"
          ]
        }
      ]
    },
    {
      "cell_type": "markdown",
      "source": [
        "**Conclusion**\n",
        "\n",
        "The estimated sample size to have `$3` standard error in our inferences is:\n",
        "- We need 100 sample for two groups.\n",
        "- We need 50 samples for each group\n",
        "\n",
        "Assuming each group would have equal sample size, the estimated sample size to have 95% confidence and 80% power in our inferences is:\n",
        "- We need 284 $\\approx$ 300 observations for two groups.\n",
        "- We need 142 $\\approx$ 150 observations for each group\n",
        "\n",
        "**Additional Question**\n",
        "\n",
        "1. What if they want reduce the confidence level to 90%, but keep 80% power level, how much the estimated sample size?\n",
        "\n"
      ],
      "metadata": {
        "id": "06oo0Eyw8fYg"
      }
    },
    {
      "cell_type": "code",
      "source": [
        "# then calculate the number of total sample size\n",
        "n =  sample_size_diff_mean(alpha = 0.1, beta = 0.2, effect_size = 5, sigma = 15)\n",
        "\n",
        "print(f\"Number of total sample size needed            : {n:.2f}\")\n",
        "print(f\"Number of sample size of each group needed    : {n/2:.2f}\")\n"
      ],
      "metadata": {
        "colab": {
          "base_uri": "https://localhost:8080/"
        },
        "id": "q6oAaZBH8xe4",
        "outputId": "0c486cd7-c3f3-493f-d3f0-676ed75058b3"
      },
      "execution_count": 16,
      "outputs": [
        {
          "output_type": "stream",
          "name": "stdout",
          "text": [
            "Number of total sample size needed            : 222.57\n",
            "Number of sample size of each group needed    : 111.29\n"
          ]
        }
      ]
    },
    {
      "cell_type": "markdown",
      "source": [
        "2. What if they want increase the power level to 95%, but keep 95% confidence level, how much the estimated sample size?"
      ],
      "metadata": {
        "id": "2X83at0t9PPC"
      }
    },
    {
      "cell_type": "code",
      "source": [
        "# then calculate the number of total sample size\n",
        "n =  sample_size_diff_mean(alpha = 0.5, beta = 0.05, effect_size = 5, sigma = 15)\n",
        "\n",
        "print(f\"Number of total sample size needed            : {n:.2f}\")\n",
        "print(f\"Number of sample size of each group needed    : {n/2:.2f}\")"
      ],
      "metadata": {
        "colab": {
          "base_uri": "https://localhost:8080/"
        },
        "id": "QObMdaho9Sdu",
        "outputId": "bdac6bc6-5dc5-4e0a-ea18-ad28f0f7938e"
      },
      "execution_count": 17,
      "outputs": [
        {
          "output_type": "stream",
          "name": "stdout",
          "text": [
            "Number of total sample size needed            : 193.66\n",
            "Number of sample size of each group needed    : 96.83\n"
          ]
        }
      ]
    },
    {
      "cell_type": "markdown",
      "source": [
        "# 3. Priming\n",
        "---\n",
        "\n",
        "- To generate interest in a new product before its launch, priming strategies can lead to increased demand when the product becomes available for sale.\n",
        "- FedEx want introduced new services and want to raise *awareness* through memorable television advertisements.\n",
        "- FedEx also sent sales representatives to existing clients. This application presents data on how 125 customers responded to this promotional campaign, as there are questions about its costs and benefits.\n",
        "- Despite potentially increasing the use of Courier Paks, the high costs of the promotional visits made this a costly campaign.\n",
        "- You are asked to do regression analysis to answer this question:\n",
        "> Was the promotion more effective to gain more mailings for customers who were already aware of FedEx’s business?\n",
        "\n",
        "### Load Data\n"
      ],
      "metadata": {
        "id": "bDQdzMD49UFd"
      }
    },
    {
      "cell_type": "code",
      "source": [
        "priming = pd.read_csv(\"sample_priming.csv\")\n",
        "priming.head()"
      ],
      "metadata": {
        "colab": {
          "base_uri": "https://localhost:8080/",
          "height": 206
        },
        "id": "pcuHLAvv9s-s",
        "outputId": "1ac6f75c-371e-4809-8da9-7c1fce6242d9"
      },
      "execution_count": 19,
      "outputs": [
        {
          "output_type": "execute_result",
          "data": {
            "text/plain": [
              "   Mailings  Hours  Aware Awareness\n",
              "0        74   3.46      1       YES\n",
              "1         3   0.51      1       YES\n",
              "2         9   1.68      0        NO\n",
              "3         0   0.31      0        NO\n",
              "4        65   3.80      0        NO"
            ],
            "text/html": [
              "\n",
              "  <div id=\"df-22733b76-445b-4d86-a642-577722184ef4\" class=\"colab-df-container\">\n",
              "    <div>\n",
              "<style scoped>\n",
              "    .dataframe tbody tr th:only-of-type {\n",
              "        vertical-align: middle;\n",
              "    }\n",
              "\n",
              "    .dataframe tbody tr th {\n",
              "        vertical-align: top;\n",
              "    }\n",
              "\n",
              "    .dataframe thead th {\n",
              "        text-align: right;\n",
              "    }\n",
              "</style>\n",
              "<table border=\"1\" class=\"dataframe\">\n",
              "  <thead>\n",
              "    <tr style=\"text-align: right;\">\n",
              "      <th></th>\n",
              "      <th>Mailings</th>\n",
              "      <th>Hours</th>\n",
              "      <th>Aware</th>\n",
              "      <th>Awareness</th>\n",
              "    </tr>\n",
              "  </thead>\n",
              "  <tbody>\n",
              "    <tr>\n",
              "      <th>0</th>\n",
              "      <td>74</td>\n",
              "      <td>3.46</td>\n",
              "      <td>1</td>\n",
              "      <td>YES</td>\n",
              "    </tr>\n",
              "    <tr>\n",
              "      <th>1</th>\n",
              "      <td>3</td>\n",
              "      <td>0.51</td>\n",
              "      <td>1</td>\n",
              "      <td>YES</td>\n",
              "    </tr>\n",
              "    <tr>\n",
              "      <th>2</th>\n",
              "      <td>9</td>\n",
              "      <td>1.68</td>\n",
              "      <td>0</td>\n",
              "      <td>NO</td>\n",
              "    </tr>\n",
              "    <tr>\n",
              "      <th>3</th>\n",
              "      <td>0</td>\n",
              "      <td>0.31</td>\n",
              "      <td>0</td>\n",
              "      <td>NO</td>\n",
              "    </tr>\n",
              "    <tr>\n",
              "      <th>4</th>\n",
              "      <td>65</td>\n",
              "      <td>3.80</td>\n",
              "      <td>0</td>\n",
              "      <td>NO</td>\n",
              "    </tr>\n",
              "  </tbody>\n",
              "</table>\n",
              "</div>\n",
              "    <div class=\"colab-df-buttons\">\n",
              "\n",
              "  <div class=\"colab-df-container\">\n",
              "    <button class=\"colab-df-convert\" onclick=\"convertToInteractive('df-22733b76-445b-4d86-a642-577722184ef4')\"\n",
              "            title=\"Convert this dataframe to an interactive table.\"\n",
              "            style=\"display:none;\">\n",
              "\n",
              "  <svg xmlns=\"http://www.w3.org/2000/svg\" height=\"24px\" viewBox=\"0 -960 960 960\">\n",
              "    <path d=\"M120-120v-720h720v720H120Zm60-500h600v-160H180v160Zm220 220h160v-160H400v160Zm0 220h160v-160H400v160ZM180-400h160v-160H180v160Zm440 0h160v-160H620v160ZM180-180h160v-160H180v160Zm440 0h160v-160H620v160Z\"/>\n",
              "  </svg>\n",
              "    </button>\n",
              "\n",
              "  <style>\n",
              "    .colab-df-container {\n",
              "      display:flex;\n",
              "      gap: 12px;\n",
              "    }\n",
              "\n",
              "    .colab-df-convert {\n",
              "      background-color: #E8F0FE;\n",
              "      border: none;\n",
              "      border-radius: 50%;\n",
              "      cursor: pointer;\n",
              "      display: none;\n",
              "      fill: #1967D2;\n",
              "      height: 32px;\n",
              "      padding: 0 0 0 0;\n",
              "      width: 32px;\n",
              "    }\n",
              "\n",
              "    .colab-df-convert:hover {\n",
              "      background-color: #E2EBFA;\n",
              "      box-shadow: 0px 1px 2px rgba(60, 64, 67, 0.3), 0px 1px 3px 1px rgba(60, 64, 67, 0.15);\n",
              "      fill: #174EA6;\n",
              "    }\n",
              "\n",
              "    .colab-df-buttons div {\n",
              "      margin-bottom: 4px;\n",
              "    }\n",
              "\n",
              "    [theme=dark] .colab-df-convert {\n",
              "      background-color: #3B4455;\n",
              "      fill: #D2E3FC;\n",
              "    }\n",
              "\n",
              "    [theme=dark] .colab-df-convert:hover {\n",
              "      background-color: #434B5C;\n",
              "      box-shadow: 0px 1px 3px 1px rgba(0, 0, 0, 0.15);\n",
              "      filter: drop-shadow(0px 1px 2px rgba(0, 0, 0, 0.3));\n",
              "      fill: #FFFFFF;\n",
              "    }\n",
              "  </style>\n",
              "\n",
              "    <script>\n",
              "      const buttonEl =\n",
              "        document.querySelector('#df-22733b76-445b-4d86-a642-577722184ef4 button.colab-df-convert');\n",
              "      buttonEl.style.display =\n",
              "        google.colab.kernel.accessAllowed ? 'block' : 'none';\n",
              "\n",
              "      async function convertToInteractive(key) {\n",
              "        const element = document.querySelector('#df-22733b76-445b-4d86-a642-577722184ef4');\n",
              "        const dataTable =\n",
              "          await google.colab.kernel.invokeFunction('convertToInteractive',\n",
              "                                                    [key], {});\n",
              "        if (!dataTable) return;\n",
              "\n",
              "        const docLinkHtml = 'Like what you see? Visit the ' +\n",
              "          '<a target=\"_blank\" href=https://colab.research.google.com/notebooks/data_table.ipynb>data table notebook</a>'\n",
              "          + ' to learn more about interactive tables.';\n",
              "        element.innerHTML = '';\n",
              "        dataTable['output_type'] = 'display_data';\n",
              "        await google.colab.output.renderOutput(dataTable, element);\n",
              "        const docLink = document.createElement('div');\n",
              "        docLink.innerHTML = docLinkHtml;\n",
              "        element.appendChild(docLink);\n",
              "      }\n",
              "    </script>\n",
              "  </div>\n",
              "\n",
              "\n",
              "<div id=\"df-fe6b46fc-8244-4d4e-9fe1-671a4be27f66\">\n",
              "  <button class=\"colab-df-quickchart\" onclick=\"quickchart('df-fe6b46fc-8244-4d4e-9fe1-671a4be27f66')\"\n",
              "            title=\"Suggest charts\"\n",
              "            style=\"display:none;\">\n",
              "\n",
              "<svg xmlns=\"http://www.w3.org/2000/svg\" height=\"24px\"viewBox=\"0 0 24 24\"\n",
              "     width=\"24px\">\n",
              "    <g>\n",
              "        <path d=\"M19 3H5c-1.1 0-2 .9-2 2v14c0 1.1.9 2 2 2h14c1.1 0 2-.9 2-2V5c0-1.1-.9-2-2-2zM9 17H7v-7h2v7zm4 0h-2V7h2v10zm4 0h-2v-4h2v4z\"/>\n",
              "    </g>\n",
              "</svg>\n",
              "  </button>\n",
              "\n",
              "<style>\n",
              "  .colab-df-quickchart {\n",
              "      --bg-color: #E8F0FE;\n",
              "      --fill-color: #1967D2;\n",
              "      --hover-bg-color: #E2EBFA;\n",
              "      --hover-fill-color: #174EA6;\n",
              "      --disabled-fill-color: #AAA;\n",
              "      --disabled-bg-color: #DDD;\n",
              "  }\n",
              "\n",
              "  [theme=dark] .colab-df-quickchart {\n",
              "      --bg-color: #3B4455;\n",
              "      --fill-color: #D2E3FC;\n",
              "      --hover-bg-color: #434B5C;\n",
              "      --hover-fill-color: #FFFFFF;\n",
              "      --disabled-bg-color: #3B4455;\n",
              "      --disabled-fill-color: #666;\n",
              "  }\n",
              "\n",
              "  .colab-df-quickchart {\n",
              "    background-color: var(--bg-color);\n",
              "    border: none;\n",
              "    border-radius: 50%;\n",
              "    cursor: pointer;\n",
              "    display: none;\n",
              "    fill: var(--fill-color);\n",
              "    height: 32px;\n",
              "    padding: 0;\n",
              "    width: 32px;\n",
              "  }\n",
              "\n",
              "  .colab-df-quickchart:hover {\n",
              "    background-color: var(--hover-bg-color);\n",
              "    box-shadow: 0 1px 2px rgba(60, 64, 67, 0.3), 0 1px 3px 1px rgba(60, 64, 67, 0.15);\n",
              "    fill: var(--button-hover-fill-color);\n",
              "  }\n",
              "\n",
              "  .colab-df-quickchart-complete:disabled,\n",
              "  .colab-df-quickchart-complete:disabled:hover {\n",
              "    background-color: var(--disabled-bg-color);\n",
              "    fill: var(--disabled-fill-color);\n",
              "    box-shadow: none;\n",
              "  }\n",
              "\n",
              "  .colab-df-spinner {\n",
              "    border: 2px solid var(--fill-color);\n",
              "    border-color: transparent;\n",
              "    border-bottom-color: var(--fill-color);\n",
              "    animation:\n",
              "      spin 1s steps(1) infinite;\n",
              "  }\n",
              "\n",
              "  @keyframes spin {\n",
              "    0% {\n",
              "      border-color: transparent;\n",
              "      border-bottom-color: var(--fill-color);\n",
              "      border-left-color: var(--fill-color);\n",
              "    }\n",
              "    20% {\n",
              "      border-color: transparent;\n",
              "      border-left-color: var(--fill-color);\n",
              "      border-top-color: var(--fill-color);\n",
              "    }\n",
              "    30% {\n",
              "      border-color: transparent;\n",
              "      border-left-color: var(--fill-color);\n",
              "      border-top-color: var(--fill-color);\n",
              "      border-right-color: var(--fill-color);\n",
              "    }\n",
              "    40% {\n",
              "      border-color: transparent;\n",
              "      border-right-color: var(--fill-color);\n",
              "      border-top-color: var(--fill-color);\n",
              "    }\n",
              "    60% {\n",
              "      border-color: transparent;\n",
              "      border-right-color: var(--fill-color);\n",
              "    }\n",
              "    80% {\n",
              "      border-color: transparent;\n",
              "      border-right-color: var(--fill-color);\n",
              "      border-bottom-color: var(--fill-color);\n",
              "    }\n",
              "    90% {\n",
              "      border-color: transparent;\n",
              "      border-bottom-color: var(--fill-color);\n",
              "    }\n",
              "  }\n",
              "</style>\n",
              "\n",
              "  <script>\n",
              "    async function quickchart(key) {\n",
              "      const quickchartButtonEl =\n",
              "        document.querySelector('#' + key + ' button');\n",
              "      quickchartButtonEl.disabled = true;  // To prevent multiple clicks.\n",
              "      quickchartButtonEl.classList.add('colab-df-spinner');\n",
              "      try {\n",
              "        const charts = await google.colab.kernel.invokeFunction(\n",
              "            'suggestCharts', [key], {});\n",
              "      } catch (error) {\n",
              "        console.error('Error during call to suggestCharts:', error);\n",
              "      }\n",
              "      quickchartButtonEl.classList.remove('colab-df-spinner');\n",
              "      quickchartButtonEl.classList.add('colab-df-quickchart-complete');\n",
              "    }\n",
              "    (() => {\n",
              "      let quickchartButtonEl =\n",
              "        document.querySelector('#df-fe6b46fc-8244-4d4e-9fe1-671a4be27f66 button');\n",
              "      quickchartButtonEl.style.display =\n",
              "        google.colab.kernel.accessAllowed ? 'block' : 'none';\n",
              "    })();\n",
              "  </script>\n",
              "</div>\n",
              "\n",
              "    </div>\n",
              "  </div>\n"
            ],
            "application/vnd.google.colaboratory.intrinsic+json": {
              "type": "dataframe",
              "variable_name": "priming",
              "summary": "{\n  \"name\": \"priming\",\n  \"rows\": 35,\n  \"fields\": [\n    {\n      \"column\": \"Mailings\",\n      \"properties\": {\n        \"dtype\": \"number\",\n        \"std\": 26,\n        \"min\": 0,\n        \"max\": 92,\n        \"num_unique_values\": 28,\n        \"samples\": [\n          30,\n          32,\n          38\n        ],\n        \"semantic_type\": \"\",\n        \"description\": \"\"\n      }\n    },\n    {\n      \"column\": \"Hours\",\n      \"properties\": {\n        \"dtype\": \"number\",\n        \"std\": 1.291883648532072,\n        \"min\": 0.31,\n        \"max\": 4.2,\n        \"num_unique_values\": 35,\n        \"samples\": [\n          0.59,\n          0.69,\n          4.2\n        ],\n        \"semantic_type\": \"\",\n        \"description\": \"\"\n      }\n    },\n    {\n      \"column\": \"Aware\",\n      \"properties\": {\n        \"dtype\": \"number\",\n        \"std\": 0,\n        \"min\": 0,\n        \"max\": 1,\n        \"num_unique_values\": 2,\n        \"samples\": [\n          0,\n          1\n        ],\n        \"semantic_type\": \"\",\n        \"description\": \"\"\n      }\n    },\n    {\n      \"column\": \"Awareness\",\n      \"properties\": {\n        \"dtype\": \"category\",\n        \"num_unique_values\": 2,\n        \"samples\": [\n          \"NO\",\n          \"YES\"\n        ],\n        \"semantic_type\": \"\",\n        \"description\": \"\"\n      }\n    }\n  ]\n}"
            }
          },
          "metadata": {},
          "execution_count": 19
        }
      ]
    },
    {
      "cell_type": "markdown",
      "source": [
        "For each customer, the data give the number of times in the following month that the customer used Courier Paks, `Mailings`and the amount of time (in hours) spent by a sales representative with the customer `Hours`. An indicator variable indicating whether or not the customer had been aware of the Courier Paks prior to the visit `Aware`.\n",
        "\n",
        "## 3.1\n",
        "\n",
        "Estimate regression line of Mailings on Hour and Awareness\n",
        "\n",
        "---"
      ],
      "metadata": {
        "id": "4k5_FyPT9yEy"
      }
    },
    {
      "cell_type": "code",
      "source": [
        "def print_coef_std_err(results):\n",
        "    \"\"\"\n",
        "    Function to combine estimated coefficients and standard error in one DataFrame\n",
        "    :param results: <statsmodels RegressionResultsWrapper> OLS regression results from statsmodel\n",
        "    :return df: <pandas DataFrame> combined estimated coefficient and standard error of model estimate\n",
        "    \"\"\"\n",
        "    coef = results.params\n",
        "    std_err = results.bse\n",
        "\n",
        "    df = pd.DataFrame(data = np.transpose([coef, std_err]),\n",
        "                      index = coef.index,\n",
        "                      columns=[\"coef\",\"std err\"])\n",
        "    return df"
      ],
      "metadata": {
        "id": "eBvwj-yB93au"
      },
      "execution_count": 20,
      "outputs": []
    },
    {
      "cell_type": "markdown",
      "source": [
        "For simplicity, we do not include interaction in the model"
      ],
      "metadata": {
        "id": "imArciLf97b9"
      }
    },
    {
      "cell_type": "code",
      "source": [
        "# Create OLS model object\n",
        "model = smf.ols(\"Mailings ~ Hours + Aware\", priming)\n",
        "\n",
        "# Fit the model\n",
        "results = model.fit()\n",
        "\n",
        "# Extract the results (Coefficient and Standard Error) to DataFrame\n",
        "results_priming_inter = print_coef_std_err(results)\n",
        "results_priming_inter"
      ],
      "metadata": {
        "colab": {
          "base_uri": "https://localhost:8080/",
          "height": 144
        },
        "id": "HVEPyb8399S_",
        "outputId": "9437f4fb-9a07-4d99-e591-ea59e01f21b3"
      },
      "execution_count": 21,
      "outputs": [
        {
          "output_type": "execute_result",
          "data": {
            "text/plain": [
              "                coef   std err\n",
              "Intercept  -4.072176  3.649764\n",
              "Hours      18.164421  1.490154\n",
              "Aware       4.660434  3.873062"
            ],
            "text/html": [
              "\n",
              "  <div id=\"df-f9f1918e-6271-4e4f-9425-220ce473b15b\" class=\"colab-df-container\">\n",
              "    <div>\n",
              "<style scoped>\n",
              "    .dataframe tbody tr th:only-of-type {\n",
              "        vertical-align: middle;\n",
              "    }\n",
              "\n",
              "    .dataframe tbody tr th {\n",
              "        vertical-align: top;\n",
              "    }\n",
              "\n",
              "    .dataframe thead th {\n",
              "        text-align: right;\n",
              "    }\n",
              "</style>\n",
              "<table border=\"1\" class=\"dataframe\">\n",
              "  <thead>\n",
              "    <tr style=\"text-align: right;\">\n",
              "      <th></th>\n",
              "      <th>coef</th>\n",
              "      <th>std err</th>\n",
              "    </tr>\n",
              "  </thead>\n",
              "  <tbody>\n",
              "    <tr>\n",
              "      <th>Intercept</th>\n",
              "      <td>-4.072176</td>\n",
              "      <td>3.649764</td>\n",
              "    </tr>\n",
              "    <tr>\n",
              "      <th>Hours</th>\n",
              "      <td>18.164421</td>\n",
              "      <td>1.490154</td>\n",
              "    </tr>\n",
              "    <tr>\n",
              "      <th>Aware</th>\n",
              "      <td>4.660434</td>\n",
              "      <td>3.873062</td>\n",
              "    </tr>\n",
              "  </tbody>\n",
              "</table>\n",
              "</div>\n",
              "    <div class=\"colab-df-buttons\">\n",
              "\n",
              "  <div class=\"colab-df-container\">\n",
              "    <button class=\"colab-df-convert\" onclick=\"convertToInteractive('df-f9f1918e-6271-4e4f-9425-220ce473b15b')\"\n",
              "            title=\"Convert this dataframe to an interactive table.\"\n",
              "            style=\"display:none;\">\n",
              "\n",
              "  <svg xmlns=\"http://www.w3.org/2000/svg\" height=\"24px\" viewBox=\"0 -960 960 960\">\n",
              "    <path d=\"M120-120v-720h720v720H120Zm60-500h600v-160H180v160Zm220 220h160v-160H400v160Zm0 220h160v-160H400v160ZM180-400h160v-160H180v160Zm440 0h160v-160H620v160ZM180-180h160v-160H180v160Zm440 0h160v-160H620v160Z\"/>\n",
              "  </svg>\n",
              "    </button>\n",
              "\n",
              "  <style>\n",
              "    .colab-df-container {\n",
              "      display:flex;\n",
              "      gap: 12px;\n",
              "    }\n",
              "\n",
              "    .colab-df-convert {\n",
              "      background-color: #E8F0FE;\n",
              "      border: none;\n",
              "      border-radius: 50%;\n",
              "      cursor: pointer;\n",
              "      display: none;\n",
              "      fill: #1967D2;\n",
              "      height: 32px;\n",
              "      padding: 0 0 0 0;\n",
              "      width: 32px;\n",
              "    }\n",
              "\n",
              "    .colab-df-convert:hover {\n",
              "      background-color: #E2EBFA;\n",
              "      box-shadow: 0px 1px 2px rgba(60, 64, 67, 0.3), 0px 1px 3px 1px rgba(60, 64, 67, 0.15);\n",
              "      fill: #174EA6;\n",
              "    }\n",
              "\n",
              "    .colab-df-buttons div {\n",
              "      margin-bottom: 4px;\n",
              "    }\n",
              "\n",
              "    [theme=dark] .colab-df-convert {\n",
              "      background-color: #3B4455;\n",
              "      fill: #D2E3FC;\n",
              "    }\n",
              "\n",
              "    [theme=dark] .colab-df-convert:hover {\n",
              "      background-color: #434B5C;\n",
              "      box-shadow: 0px 1px 3px 1px rgba(0, 0, 0, 0.15);\n",
              "      filter: drop-shadow(0px 1px 2px rgba(0, 0, 0, 0.3));\n",
              "      fill: #FFFFFF;\n",
              "    }\n",
              "  </style>\n",
              "\n",
              "    <script>\n",
              "      const buttonEl =\n",
              "        document.querySelector('#df-f9f1918e-6271-4e4f-9425-220ce473b15b button.colab-df-convert');\n",
              "      buttonEl.style.display =\n",
              "        google.colab.kernel.accessAllowed ? 'block' : 'none';\n",
              "\n",
              "      async function convertToInteractive(key) {\n",
              "        const element = document.querySelector('#df-f9f1918e-6271-4e4f-9425-220ce473b15b');\n",
              "        const dataTable =\n",
              "          await google.colab.kernel.invokeFunction('convertToInteractive',\n",
              "                                                    [key], {});\n",
              "        if (!dataTable) return;\n",
              "\n",
              "        const docLinkHtml = 'Like what you see? Visit the ' +\n",
              "          '<a target=\"_blank\" href=https://colab.research.google.com/notebooks/data_table.ipynb>data table notebook</a>'\n",
              "          + ' to learn more about interactive tables.';\n",
              "        element.innerHTML = '';\n",
              "        dataTable['output_type'] = 'display_data';\n",
              "        await google.colab.output.renderOutput(dataTable, element);\n",
              "        const docLink = document.createElement('div');\n",
              "        docLink.innerHTML = docLinkHtml;\n",
              "        element.appendChild(docLink);\n",
              "      }\n",
              "    </script>\n",
              "  </div>\n",
              "\n",
              "\n",
              "<div id=\"df-98571ac1-aa8c-4dc2-b92a-59a5c10476ab\">\n",
              "  <button class=\"colab-df-quickchart\" onclick=\"quickchart('df-98571ac1-aa8c-4dc2-b92a-59a5c10476ab')\"\n",
              "            title=\"Suggest charts\"\n",
              "            style=\"display:none;\">\n",
              "\n",
              "<svg xmlns=\"http://www.w3.org/2000/svg\" height=\"24px\"viewBox=\"0 0 24 24\"\n",
              "     width=\"24px\">\n",
              "    <g>\n",
              "        <path d=\"M19 3H5c-1.1 0-2 .9-2 2v14c0 1.1.9 2 2 2h14c1.1 0 2-.9 2-2V5c0-1.1-.9-2-2-2zM9 17H7v-7h2v7zm4 0h-2V7h2v10zm4 0h-2v-4h2v4z\"/>\n",
              "    </g>\n",
              "</svg>\n",
              "  </button>\n",
              "\n",
              "<style>\n",
              "  .colab-df-quickchart {\n",
              "      --bg-color: #E8F0FE;\n",
              "      --fill-color: #1967D2;\n",
              "      --hover-bg-color: #E2EBFA;\n",
              "      --hover-fill-color: #174EA6;\n",
              "      --disabled-fill-color: #AAA;\n",
              "      --disabled-bg-color: #DDD;\n",
              "  }\n",
              "\n",
              "  [theme=dark] .colab-df-quickchart {\n",
              "      --bg-color: #3B4455;\n",
              "      --fill-color: #D2E3FC;\n",
              "      --hover-bg-color: #434B5C;\n",
              "      --hover-fill-color: #FFFFFF;\n",
              "      --disabled-bg-color: #3B4455;\n",
              "      --disabled-fill-color: #666;\n",
              "  }\n",
              "\n",
              "  .colab-df-quickchart {\n",
              "    background-color: var(--bg-color);\n",
              "    border: none;\n",
              "    border-radius: 50%;\n",
              "    cursor: pointer;\n",
              "    display: none;\n",
              "    fill: var(--fill-color);\n",
              "    height: 32px;\n",
              "    padding: 0;\n",
              "    width: 32px;\n",
              "  }\n",
              "\n",
              "  .colab-df-quickchart:hover {\n",
              "    background-color: var(--hover-bg-color);\n",
              "    box-shadow: 0 1px 2px rgba(60, 64, 67, 0.3), 0 1px 3px 1px rgba(60, 64, 67, 0.15);\n",
              "    fill: var(--button-hover-fill-color);\n",
              "  }\n",
              "\n",
              "  .colab-df-quickchart-complete:disabled,\n",
              "  .colab-df-quickchart-complete:disabled:hover {\n",
              "    background-color: var(--disabled-bg-color);\n",
              "    fill: var(--disabled-fill-color);\n",
              "    box-shadow: none;\n",
              "  }\n",
              "\n",
              "  .colab-df-spinner {\n",
              "    border: 2px solid var(--fill-color);\n",
              "    border-color: transparent;\n",
              "    border-bottom-color: var(--fill-color);\n",
              "    animation:\n",
              "      spin 1s steps(1) infinite;\n",
              "  }\n",
              "\n",
              "  @keyframes spin {\n",
              "    0% {\n",
              "      border-color: transparent;\n",
              "      border-bottom-color: var(--fill-color);\n",
              "      border-left-color: var(--fill-color);\n",
              "    }\n",
              "    20% {\n",
              "      border-color: transparent;\n",
              "      border-left-color: var(--fill-color);\n",
              "      border-top-color: var(--fill-color);\n",
              "    }\n",
              "    30% {\n",
              "      border-color: transparent;\n",
              "      border-left-color: var(--fill-color);\n",
              "      border-top-color: var(--fill-color);\n",
              "      border-right-color: var(--fill-color);\n",
              "    }\n",
              "    40% {\n",
              "      border-color: transparent;\n",
              "      border-right-color: var(--fill-color);\n",
              "      border-top-color: var(--fill-color);\n",
              "    }\n",
              "    60% {\n",
              "      border-color: transparent;\n",
              "      border-right-color: var(--fill-color);\n",
              "    }\n",
              "    80% {\n",
              "      border-color: transparent;\n",
              "      border-right-color: var(--fill-color);\n",
              "      border-bottom-color: var(--fill-color);\n",
              "    }\n",
              "    90% {\n",
              "      border-color: transparent;\n",
              "      border-bottom-color: var(--fill-color);\n",
              "    }\n",
              "  }\n",
              "</style>\n",
              "\n",
              "  <script>\n",
              "    async function quickchart(key) {\n",
              "      const quickchartButtonEl =\n",
              "        document.querySelector('#' + key + ' button');\n",
              "      quickchartButtonEl.disabled = true;  // To prevent multiple clicks.\n",
              "      quickchartButtonEl.classList.add('colab-df-spinner');\n",
              "      try {\n",
              "        const charts = await google.colab.kernel.invokeFunction(\n",
              "            'suggestCharts', [key], {});\n",
              "      } catch (error) {\n",
              "        console.error('Error during call to suggestCharts:', error);\n",
              "      }\n",
              "      quickchartButtonEl.classList.remove('colab-df-spinner');\n",
              "      quickchartButtonEl.classList.add('colab-df-quickchart-complete');\n",
              "    }\n",
              "    (() => {\n",
              "      let quickchartButtonEl =\n",
              "        document.querySelector('#df-98571ac1-aa8c-4dc2-b92a-59a5c10476ab button');\n",
              "      quickchartButtonEl.style.display =\n",
              "        google.colab.kernel.accessAllowed ? 'block' : 'none';\n",
              "    })();\n",
              "  </script>\n",
              "</div>\n",
              "\n",
              "  <div id=\"id_3732bc2a-b9eb-4951-a70c-bd551b03c89f\">\n",
              "    <style>\n",
              "      .colab-df-generate {\n",
              "        background-color: #E8F0FE;\n",
              "        border: none;\n",
              "        border-radius: 50%;\n",
              "        cursor: pointer;\n",
              "        display: none;\n",
              "        fill: #1967D2;\n",
              "        height: 32px;\n",
              "        padding: 0 0 0 0;\n",
              "        width: 32px;\n",
              "      }\n",
              "\n",
              "      .colab-df-generate:hover {\n",
              "        background-color: #E2EBFA;\n",
              "        box-shadow: 0px 1px 2px rgba(60, 64, 67, 0.3), 0px 1px 3px 1px rgba(60, 64, 67, 0.15);\n",
              "        fill: #174EA6;\n",
              "      }\n",
              "\n",
              "      [theme=dark] .colab-df-generate {\n",
              "        background-color: #3B4455;\n",
              "        fill: #D2E3FC;\n",
              "      }\n",
              "\n",
              "      [theme=dark] .colab-df-generate:hover {\n",
              "        background-color: #434B5C;\n",
              "        box-shadow: 0px 1px 3px 1px rgba(0, 0, 0, 0.15);\n",
              "        filter: drop-shadow(0px 1px 2px rgba(0, 0, 0, 0.3));\n",
              "        fill: #FFFFFF;\n",
              "      }\n",
              "    </style>\n",
              "    <button class=\"colab-df-generate\" onclick=\"generateWithVariable('results_priming_inter')\"\n",
              "            title=\"Generate code using this dataframe.\"\n",
              "            style=\"display:none;\">\n",
              "\n",
              "  <svg xmlns=\"http://www.w3.org/2000/svg\" height=\"24px\"viewBox=\"0 0 24 24\"\n",
              "       width=\"24px\">\n",
              "    <path d=\"M7,19H8.4L18.45,9,17,7.55,7,17.6ZM5,21V16.75L18.45,3.32a2,2,0,0,1,2.83,0l1.4,1.43a1.91,1.91,0,0,1,.58,1.4,1.91,1.91,0,0,1-.58,1.4L9.25,21ZM18.45,9,17,7.55Zm-12,3A5.31,5.31,0,0,0,4.9,8.1,5.31,5.31,0,0,0,1,6.5,5.31,5.31,0,0,0,4.9,4.9,5.31,5.31,0,0,0,6.5,1,5.31,5.31,0,0,0,8.1,4.9,5.31,5.31,0,0,0,12,6.5,5.46,5.46,0,0,0,6.5,12Z\"/>\n",
              "  </svg>\n",
              "    </button>\n",
              "    <script>\n",
              "      (() => {\n",
              "      const buttonEl =\n",
              "        document.querySelector('#id_3732bc2a-b9eb-4951-a70c-bd551b03c89f button.colab-df-generate');\n",
              "      buttonEl.style.display =\n",
              "        google.colab.kernel.accessAllowed ? 'block' : 'none';\n",
              "\n",
              "      buttonEl.onclick = () => {\n",
              "        google.colab.notebook.generateWithVariable('results_priming_inter');\n",
              "      }\n",
              "      })();\n",
              "    </script>\n",
              "  </div>\n",
              "\n",
              "    </div>\n",
              "  </div>\n"
            ],
            "application/vnd.google.colaboratory.intrinsic+json": {
              "type": "dataframe",
              "variable_name": "results_priming_inter",
              "summary": "{\n  \"name\": \"results_priming_inter\",\n  \"rows\": 3,\n  \"fields\": [\n    {\n      \"column\": \"coef\",\n      \"properties\": {\n        \"dtype\": \"number\",\n        \"std\": 11.203291150721062,\n        \"min\": -4.07217574220199,\n        \"max\": 18.164421274124877,\n        \"num_unique_values\": 3,\n        \"samples\": [\n          -4.07217574220199,\n          18.164421274124877,\n          4.660433625778493\n        ],\n        \"semantic_type\": \"\",\n        \"description\": \"\"\n      }\n    },\n    {\n      \"column\": \"std err\",\n      \"properties\": {\n        \"dtype\": \"number\",\n        \"std\": 1.316056361698429,\n        \"min\": 1.4901543327237348,\n        \"max\": 3.8730621561182406,\n        \"num_unique_values\": 3,\n        \"samples\": [\n          3.6497641050161,\n          1.4901543327237348,\n          3.8730621561182406\n        ],\n        \"semantic_type\": \"\",\n        \"description\": \"\"\n      }\n    }\n  ]\n}"
            }
          },
          "metadata": {},
          "execution_count": 21
        }
      ]
    },
    {
      "cell_type": "markdown",
      "source": [
        "#### Interpretation of Aware Coefficient\n",
        "\n",
        "- 4.7 represents the difference in the mailings for the same hours of visits, comparing customer who did and did not aware\n",
        "\n",
        "#### Insight\n",
        "- On average, the difference in the use of Courier Paks is approximately 5 more with priming compared to without priming in the same hour of contact with a sales representative.\n",
        "\n",
        "---\n",
        "## 3.2\n",
        "\n",
        "Next, if they want to conduct other priming analysis for other similar product, how much estimated sample size needed if they want to reduced the current standard error?\n",
        "\n",
        "### 3.2.1\n",
        "\n",
        "Estimate the sample size needed to have smaler standard error of aware coefficient, says to 1\n",
        "\n",
        "---\n",
        "\n"
      ],
      "metadata": {
        "id": "3WlzkGJG-BwI"
      }
    },
    {
      "cell_type": "code",
      "source": [
        "# Given\n",
        "standar_error = 1\n",
        "sigma = np.sqrt(results.mse_resid) # standard deviation of population (estimated from residual standard deviation of regression)"
      ],
      "metadata": {
        "id": "jrHJiHMX-Nvo"
      },
      "execution_count": 22,
      "outputs": []
    },
    {
      "cell_type": "code",
      "source": [
        "# then calculate the number of total sample size\n",
        "n =  sample_size_single_mean_se(sigma, standar_error)\n",
        "\n",
        "print(f\"Number of total sample size needed    : {n:.2f}\")"
      ],
      "metadata": {
        "colab": {
          "base_uri": "https://localhost:8080/"
        },
        "id": "g6agoduO-Qve",
        "outputId": "3e0059c4-041e-4c64-90a9-6b22ef0d5508"
      },
      "execution_count": 23,
      "outputs": [
        {
          "output_type": "stream",
          "name": "stdout",
          "text": [
            "Number of total sample size needed    : 124.71\n"
          ]
        }
      ]
    },
    {
      "cell_type": "markdown",
      "source": [
        "### 3.2.2\n",
        "\n",
        "Estimate the sample size needed to have power 80% and confidence level 95% to detect the smaller effect size, let's say 3.\n",
        "---\n",
        "\n",
        "\n",
        "Initiate what we know"
      ],
      "metadata": {
        "id": "7bcpEXPz-TXt"
      }
    },
    {
      "cell_type": "code",
      "source": [
        "# Given\n",
        "effect_size = 3                    # absolute desired effect_size\n",
        "conf = 0.95                        # confidence level\n",
        "power = 0.8                        # power\n",
        "sigma = np.sqrt(results.mse_resid) # standard deviation of population (estimated from residual standard deviation of regression)"
      ],
      "metadata": {
        "id": "7T4fFx42-X5N"
      },
      "execution_count": 24,
      "outputs": []
    },
    {
      "cell_type": "markdown",
      "source": [
        "Calculate the alpha and beta from confidence level and power level"
      ],
      "metadata": {
        "id": "fXlFuVIr-i3O"
      }
    },
    {
      "cell_type": "code",
      "source": [
        "# calculate beta\n",
        "beta = 1 - power\n",
        "\n",
        "# calculate alpha\n",
        "alpha = 1 - conf"
      ],
      "metadata": {
        "id": "xOrCl6WR-mO6"
      },
      "execution_count": 25,
      "outputs": []
    },
    {
      "cell_type": "markdown",
      "source": [
        "Calculate estimated sample size using helper function, or you can manually calculate it by using calculator, it must expect approximately same value"
      ],
      "metadata": {
        "id": "nFW495q6-oIY"
      }
    },
    {
      "cell_type": "code",
      "source": [
        "# then calculate the number of sample size\n",
        "n =  sample_size_single_mean(alpha, beta, effect_size, sigma)\n",
        "\n",
        "print(f\"Number of sample size needed            : {n:.2f}\")"
      ],
      "metadata": {
        "colab": {
          "base_uri": "https://localhost:8080/"
        },
        "id": "DaAsR2fr-qsG",
        "outputId": "51c63f5f-3ac4-455e-8818-9d0723a4f339"
      },
      "execution_count": 26,
      "outputs": [
        {
          "output_type": "stream",
          "name": "stdout",
          "text": [
            "Number of sample size needed            : 108.76\n"
          ]
        }
      ]
    },
    {
      "cell_type": "markdown",
      "source": [
        "**Conclusion**\n",
        "\n",
        "- The estimated sample size to have smaller standard error coefficient in Aware, `1` in our inferences is is 125\n",
        "\n",
        "- The estimated sample size to have 95% confidence and 80% power level to detect smaller effect size, `3` in our inferences is approximately 110"
      ],
      "metadata": {
        "id": "f-QtoMoC-scd"
      }
    }
  ]
}